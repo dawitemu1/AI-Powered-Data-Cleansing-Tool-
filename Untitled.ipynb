{
 "cells": [
  {
   "cell_type": "code",
   "execution_count": 1,
   "id": "8a1f8fbb-9334-486f-b460-f2ed8654c71e",
   "metadata": {},
   "outputs": [
    {
     "name": "stdout",
     "output_type": "stream",
     "text": [
      "Upper group: [21.84, 19.031, 16.919]\n",
      "Middle group: [6.511, 6.332, 5.963, 4.866, 3.667, 3.606, 2.166, 2.124, 1.553, 1.54, 1.07]\n",
      "Lower group: [0.54, 0.406, 0.386, 0.335, 0.287, 0.284, 0.214, 0.208, 0.053, 0.045]\n"
     ]
    }
   ],
   "source": [
    "import numpy as np\n",
    "\n",
    "# Example data\n",
    "values = np.array([\n",
    "    21.840, 19.031, 16.919, 6.511, 6.332, 5.963,\n",
    "    4.866, 3.667, 3.606, 2.166, 2.124, 1.553,\n",
    "    1.540, 1.070, 0.540, 0.406, 0.386, 0.335,\n",
    "    0.287, 0.284, 0.214, 0.208, 0.053, 0.045\n",
    "])\n",
    "\n",
    "# Classify numbers based on the conditions\n",
    "upper = [x for x in values if x > 15]\n",
    "middle = [x for x in values if 1 < x <= 15]\n",
    "lower = [x for x in values if x <= 1]\n",
    "\n",
    "# Print each group\n",
    "print(\"Upper group:\", upper)\n",
    "print(\"Middle group:\", middle)\n",
    "print(\"Lower group:\", lower)\n"
   ]
  },
  {
   "cell_type": "code",
   "execution_count": 4,
   "id": "527e3f42-65a3-4d7d-b90d-79d08e77084c",
   "metadata": {
    "tags": []
   },
   "outputs": [
    {
     "name": "stdout",
     "output_type": "stream",
     "text": [
      "Jenks Natural Breaks: [0.045, 2.166, 6.511, 21.84]\n"
     ]
    }
   ],
   "source": [
    "import jenkspy\n",
    "import numpy as np\n",
    "\n",
    "# Example data\n",
    "values = np.array([21.840, 19.031, 16.919, 6.511, 6.332, 5.963, 4.866, 3.667,\n",
    "                   3.606, 2.166, 2.124, 1.553, 1.540, 1.070, 0.503, 0.496,\n",
    "                   0.386, 0.335, 0.287, 0.284, 0.214, 0.208, 0.053, 0.045])\n",
    "\n",
    "# Find Jenks breaks for 3 classes (remove 'nb_class=')\n",
    "breaks = jenkspy.jenks_breaks(values, 3)\n",
    "\n",
    "print(\"Jenks Natural Breaks:\", breaks)\n"
   ]
  },
  {
   "cell_type": "code",
   "execution_count": 9,
   "id": "8699409c-57e3-4bb0-876f-5192943f6b5f",
   "metadata": {
    "tags": []
   },
   "outputs": [
    {
     "name": "stdout",
     "output_type": "stream",
     "text": [
      "Jenks Natural Breaks: [1.564, 4.12, 7.753, 11.38]\n",
      "Upper group: [11.38]\n",
      "Middle group: [7.753, 7.717, 6.616, 6.461, 5.952, 4.777, 4.657, 4.558]\n",
      "Lower group: [4.12, 3.732, 3.239, 3.043, 2.885, 2.809, 2.743, 2.666, 2.628, 2.623, 2.449, 1.926, 1.887, 1.813, 1.564]\n"
     ]
    }
   ],
   "source": [
    "import numpy as np\n",
    "import jenkspy\n",
    "\n",
    "# Example data\n",
    "values = np.array([\n",
    "    11.380, 7.753, 7.717, 6.616, 6.461, 5.952, 4.777, 4.657, 4.558, \n",
    "    4.120, 3.732, 3.239, 3.043, 2.885, 2.809, 2.743, 2.666, 2.628, \n",
    "    2.623, 2.449, 1.926, 1.887, 1.813, 1.564\n",
    "])\n",
    "\n",
    "# Calculate Jenks Natural Breaks for 3 classes\n",
    "breaks = jenkspy.jenks_breaks(values, 3)\n",
    "\n",
    "# Print the break points and classify the values based on these breaks\n",
    "print(\"Jenks Natural Breaks:\", breaks)\n",
    "\n",
    "# Classifying values into groups based on Jenks breaks\n",
    "upper = [x for x in values if x > breaks[2]]  # Values above the upper break\n",
    "middle = [x for x in values if breaks[1] < x <= breaks[2]]  # Values between middle and upper break\n",
    "lower = [x for x in values if x <= breaks[1]]  # Values below or equal to the middle break\n",
    "\n",
    "# Print each group\n",
    "print(\"Upper group:\", upper)\n",
    "print(\"Middle group:\", middle)\n",
    "print(\"Lower group:\", lower)\n"
   ]
  },
  {
   "cell_type": "code",
   "execution_count": 7,
   "id": "e473c825-8c89-4586-aef0-c7c064968079",
   "metadata": {
    "tags": []
   },
   "outputs": [
    {
     "name": "stdout",
     "output_type": "stream",
     "text": [
      "Jenks Natural Breaks: [0.045, 2.166, 6.511, 21.84]\n",
      "Upper group: [21.84, 19.031, 16.919]\n",
      "Middle group: [6.511, 6.332, 5.963, 4.866, 3.667, 3.606]\n",
      "Lower group: [2.166, 2.124, 1.553, 1.54, 1.07, 0.54, 0.406, 0.386, 0.335, 0.287, 0.284, 0.214, 0.208, 0.053, 0.045]\n"
     ]
    }
   ],
   "source": [
    "import numpy as np\n",
    "import jenkspy\n",
    "\n",
    "# Example data\n",
    "values = np.array([\n",
    "    21.840, 19.031, 16.919, 6.511, 6.332, 5.963,\n",
    "    4.866, 3.667, 3.606, 2.166, 2.124, 1.553,\n",
    "    1.540, 1.070, 0.540, 0.406, 0.386, 0.335,\n",
    "    0.287, 0.284, 0.214, 0.208, 0.053, 0.045\n",
    "])\n",
    "\n",
    "# Calculate Jenks Natural Breaks for 3 classes (use 3 as a positional argument instead of nb_class=3)\n",
    "breaks = jenkspy.jenks_breaks(values, 3)\n",
    "\n",
    "# Print the break points and classify the values based on these breaks\n",
    "print(\"Jenks Natural Breaks:\", breaks)\n",
    "\n",
    "# Classifying values into groups based on Jenks breaks\n",
    "upper = [x for x in values if x > breaks[2]]  # Values above the upper break\n",
    "middle = [x for x in values if breaks[1] < x <= breaks[2]]  # Values between middle and upper break\n",
    "lower = [x for x in values if x <= breaks[1]]  # Values below or equal to the middle break\n",
    "\n",
    "# Print each group\n",
    "print(\"Upper group:\", upper)\n",
    "print(\"Middle group:\", middle)\n",
    "print(\"Lower group:\", lower)\n"
   ]
  },
  {
   "cell_type": "code",
   "execution_count": null,
   "id": "114c6c66-8503-41d5-89b5-53fdcb45ed4c",
   "metadata": {},
   "outputs": [],
   "source": []
  }
 ],
 "metadata": {
  "kernelspec": {
   "display_name": "Python 3 (ipykernel)",
   "language": "python",
   "name": "python3"
  },
  "language_info": {
   "codemirror_mode": {
    "name": "ipython",
    "version": 3
   },
   "file_extension": ".py",
   "mimetype": "text/x-python",
   "name": "python",
   "nbconvert_exporter": "python",
   "pygments_lexer": "ipython3",
   "version": "3.11.5"
  }
 },
 "nbformat": 4,
 "nbformat_minor": 5
}
