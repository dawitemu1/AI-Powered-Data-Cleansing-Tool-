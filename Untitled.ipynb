{
 "cells": [
  {
   "cell_type": "code",
   "execution_count": 11,
   "id": "944be50b-8e03-485c-82b9-37d3a3f80ef0",
   "metadata": {
    "tags": []
   },
   "outputs": [],
   "source": [
    "import pandas as pd\n",
    "\n",
    "# Assuming the file exists\n",
    "df = pd.read_excel('C:/Users/Daveee/Downloads/100.xlsx')"
   ]
  },
  {
   "cell_type": "code",
   "execution_count": 12,
   "id": "2aec17d4-17dd-4762-9a1c-13d6df02cc16",
   "metadata": {
    "tags": []
   },
   "outputs": [
    {
     "data": {
      "text/plain": [
       "Index(['CUSTOMER_ID', 'TOP_SHORT_CODE', 'OWNER_SHORT_CODE', 'FIRST_NAME',\n",
       "       'SECOND_NAME', 'LAST_NAME', 'PUBLIC_NAME', 'LAST_ACTIVITY_TIME',\n",
       "       'RECRUITED_BY', 'CUSTOMER_TYPE', 'TRUST_LEVEL',\n",
       "       'CUSTOMER_CHARGE_PROFILE', 'RULE_PROFILE_ID', 'CUSTOMERS_RULE_PROFILE',\n",
       "       'OWNED_IDENTITY_TYPE', 'CREATE_OPER_ID', 'OWNED_IDENTITY_ID',\n",
       "       'MODIFY_OPER_ID', 'PERSON_ID', 'SERVICE_PROVIDER_ID', 'PHONE_NUMBER',\n",
       "       'DATE_OF_BIRTH', 'CITY', 'NOTIFICATION_RECEIVING_E_MAIL', 'TITLE',\n",
       "       'MOTHERS_FIRST_NAME', 'GENDER', 'NATIONALITY', 'REGION', 'WOREDA',\n",
       "       'KEBELE', 'NOTIFICATION_RECEIVING_MSISDN',\n",
       "       'PREFERRED_NOTIFICATION_CHANNEL', 'USER_NAME', 'NOTIFICATION_TYPE',\n",
       "       'CUSTOMERS_PREFERRED_LANGUAGE', 'ACTIVE_TIME', 'STATUS_CHANGE_TIME',\n",
       "       'CREATE_TIME', 'MODIFY_TIME', 'STATUS', 'STATUS_CHANGE_REASON',\n",
       "       'INVITER_IDENTITY_ID', 'FIRST_LINK_BANK_ACCOUNT_TIME',\n",
       "       'INVITER_IDENTITY_TYPE', 'CHANNEL_ID', 'SALES_PERSON', 'BRANCHCODE',\n",
       "       'BRANCHNAME', 'OLD_DISTRICTCODE', 'OLD_DISTRICTNAME', 'REGION_1',\n",
       "       'OLD_REGIONNAME', 'BRANCHGRADE', 'BM_CODE', 'SB_CODE', 'TS_CODE',\n",
       "       'PITS_CODE', 'NBE_CODE', 'CORE_BANK', 'SYSTEMTYPE', 'OLDNAME',\n",
       "       'DATE_OPENED', 'COST_CENTER', 'DAO', 'DUMMY_CODE', 'CBEBIRR_CODE',\n",
       "       'LOCAL_DB_CODE', 'DISTRICTNAME', 'TOWN', 'WOREDA_1', 'ZONE_SUBCITY',\n",
       "       'REGIONNAME', 'DISTANCE_KM', 'CBE_REGION', 'DISTRICTCODE',\n",
       "       'CBE_REGIONCODE', 'CBE_NOOR', 'DISTRICTNAME_JUL12'],\n",
       "      dtype='object')"
      ]
     },
     "execution_count": 12,
     "metadata": {},
     "output_type": "execute_result"
    }
   ],
   "source": [
    "df.columns"
   ]
  },
  {
   "cell_type": "code",
   "execution_count": 13,
   "id": "caa2be0e-2e2c-4b70-ae8b-bebb022e0afa",
   "metadata": {
    "tags": []
   },
   "outputs": [
    {
     "data": {
      "text/plain": [
       "CUSTOMER_ID             int64\n",
       "TOP_SHORT_CODE        float64\n",
       "OWNER_SHORT_CODE      float64\n",
       "FIRST_NAME             object\n",
       "SECOND_NAME            object\n",
       "                       ...   \n",
       "CBE_REGION             object\n",
       "DISTRICTCODE          float64\n",
       "CBE_REGIONCODE        float64\n",
       "CBE_NOOR              float64\n",
       "DISTRICTNAME_JUL12     object\n",
       "Length: 79, dtype: object"
      ]
     },
     "execution_count": 13,
     "metadata": {},
     "output_type": "execute_result"
    }
   ],
   "source": [
    "df.dtypes"
   ]
  },
  {
   "cell_type": "code",
   "execution_count": 14,
   "id": "27b5cba1-a20b-4961-b6a7-476bc66c316f",
   "metadata": {
    "tags": []
   },
   "outputs": [
    {
     "name": "stdout",
     "output_type": "stream",
     "text": [
      "The data type of the column is: float64\n"
     ]
    }
   ],
   "source": [
    "# Replace 'column_name' with the actual name of your column\n",
    "column_dtype = df['GENDER'].dtype\n",
    "print(f\"The data type of the column is: {column_dtype}\")"
   ]
  },
  {
   "cell_type": "code",
   "execution_count": null,
   "id": "8a1f8fbb-9334-486f-b460-f2ed8654c71e",
   "metadata": {},
   "outputs": [],
   "source": []
  }
 ],
 "metadata": {
  "kernelspec": {
   "display_name": "Python 3 (ipykernel)",
   "language": "python",
   "name": "python3"
  },
  "language_info": {
   "codemirror_mode": {
    "name": "ipython",
    "version": 3
   },
   "file_extension": ".py",
   "mimetype": "text/x-python",
   "name": "python",
   "nbconvert_exporter": "python",
   "pygments_lexer": "ipython3",
   "version": "3.11.5"
  }
 },
 "nbformat": 4,
 "nbformat_minor": 5
}
